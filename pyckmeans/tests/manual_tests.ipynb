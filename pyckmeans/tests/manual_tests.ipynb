{
 "cells": [
  {
   "cell_type": "code",
   "execution_count": 7,
   "metadata": {},
   "outputs": [],
   "source": [
    "from pyckmeans import NucleotideAlignment, CKmeans\n",
    "from pyckmeans.io.nucleotide_alignment import BASE_ENCODING_INVERSE, BASE_ENCODING\n",
    "import numpy as np\n",
    "import time"
   ]
  },
  {
   "cell_type": "code",
   "execution_count": 3,
   "metadata": {
    "tags": []
   },
   "outputs": [],
   "source": [
    "# import pprofile\n",
    "# profiler = pprofile.Profile()\n",
    "# with profiler:\n",
    "# #     aln = NucleotideAlignment.from_file('../../docs/datasets/rhodanthemum_ct85_msl68.snps.phy')\n",
    "#     aln = NucleotideAlignment.from_file('C:/Users/Tankr/Downloads/leu_reference_msl12.phy')\n",
    "# # Process profile content: generate a cachegrind file and send it to user.\n",
    "\n",
    "# # You can also write the result to the console:\n",
    "# profiler.print_stats()"
   ]
  },
  {
   "cell_type": "code",
   "execution_count": 4,
   "metadata": {
    "tags": []
   },
   "outputs": [],
   "source": [
    "# import pprofile\n",
    "# profiler = pprofile.Profile()\n",
    "# with profiler:\n",
    "# #     aln = NucleotideAlignment.from_file('../../docs/datasets/rhodanthemum_ct85_msl68.snps.phy', fast_encoding=True)\n",
    "#     aln2 = NucleotideAlignment.from_file('C:/Users/Tankr/Downloads/leu_reference_msl12.phy', fast_encoding=True)\n",
    "# # Process profile content: generate a cachegrind file and send it to user.\n",
    "\n",
    "# # You can also write the result to the console:\n",
    "# profiler.print_stats()"
   ]
  },
  {
   "cell_type": "code",
   "execution_count": 2,
   "metadata": {},
   "outputs": [
    {
     "name": "stdout",
     "output_type": "stream",
     "text": [
      "<U1\n",
      "<U1\n",
      "<U1\n",
      "<U1\n",
      "<U1\n",
      "393 ms ± 0 ns per loop (mean ± std. dev. of 1 run, 5 loops each)\n"
     ]
    }
   ],
   "source": [
    "%%timeit -n 5 -r 1\n",
    "\n",
    "aln = NucleotideAlignment.from_file('../../docs/datasets/rhodanthemum_ct85_msl68.snps.phy')"
   ]
  },
  {
   "cell_type": "code",
   "execution_count": 3,
   "metadata": {},
   "outputs": [
    {
     "name": "stdout",
     "output_type": "stream",
     "text": [
      "|S1\n",
      "|S1\n",
      "|S1\n",
      "|S1\n",
      "|S1\n",
      "78.8 ms ± 0 ns per loop (mean ± std. dev. of 1 run, 5 loops each)\n"
     ]
    }
   ],
   "source": [
    "%%timeit -n 5 -r 1\n",
    "\n",
    "aln2 = NucleotideAlignment.from_file('../../docs/datasets/rhodanthemum_ct85_msl68.snps.phy', fast_encoding=True)"
   ]
  },
  {
   "cell_type": "code",
   "execution_count": 9,
   "metadata": {},
   "outputs": [
    {
     "name": "stdout",
     "output_type": "stream",
     "text": [
      "<U1\n"
     ]
    },
    {
     "data": {
      "text/plain": [
       "array([240, 240, 240, 240, 240, 240, 240, 240, 240, 240], dtype=uint8)"
      ]
     },
     "execution_count": 9,
     "metadata": {},
     "output_type": "execute_result"
    }
   ],
   "source": [
    "t0 = time.time()\n",
    "# aln = NucleotideAlignment.from_file('../../docs/datasets/rhodanthemum_ct85_msl68.snps.phy')\n",
    "aln = NucleotideAlignment.from_file('C:/Users/Tankr/Downloads/leu_reference_msl12.phy', fast_encoding=False)\n",
    "t1 = time.time()\n",
    "aln.sequences[0, :10]"
   ]
  },
  {
   "cell_type": "code",
   "execution_count": 10,
   "metadata": {},
   "outputs": [
    {
     "name": "stdout",
     "output_type": "stream",
     "text": [
      "|S1\n"
     ]
    },
    {
     "data": {
      "text/plain": [
       "array([240, 240, 240, 240, 240, 240, 240, 240, 240, 240], dtype=uint8)"
      ]
     },
     "execution_count": 10,
     "metadata": {},
     "output_type": "execute_result"
    }
   ],
   "source": [
    "t2 = time.time()\n",
    "# aln2 = NucleotideAlignment.from_file('../../docs/datasets/rhodanthemum_ct85_msl68.snps.phy', fast_encoding=True)\n",
    "aln2 = NucleotideAlignment.from_file('C:/Users/Tankr/Downloads/leu_reference_msl12.phy', fast_encoding=True)\n",
    "t3 = time.time()\n",
    "aln2.sequences[0, : 10]"
   ]
  },
  {
   "cell_type": "code",
   "execution_count": 13,
   "metadata": {},
   "outputs": [
    {
     "name": "stdout",
     "output_type": "stream",
     "text": [
      "51.790849924087524\n",
      "9.706952810287476\n"
     ]
    },
    {
     "data": {
      "text/plain": [
       "True"
      ]
     },
     "execution_count": 13,
     "metadata": {},
     "output_type": "execute_result"
    }
   ],
   "source": [
    "print(t1 - t0)\n",
    "print(t3 - t2)\n",
    "\n",
    "(aln.sequences == aln2.sequences).all()"
   ]
  }
 ],
 "metadata": {
  "interpreter": {
   "hash": "b51d5ffcdcb55cd147093c36a7aba5fa109db6e1886e0c97238be526b29fa5a9"
  },
  "kernelspec": {
   "display_name": "Python [conda env:root] *",
   "language": "python",
   "name": "conda-root-py"
  },
  "language_info": {
   "codemirror_mode": {
    "name": "ipython",
    "version": 3
   },
   "file_extension": ".py",
   "mimetype": "text/x-python",
   "name": "python",
   "nbconvert_exporter": "python",
   "pygments_lexer": "ipython3",
   "version": "3.9.4"
  }
 },
 "nbformat": 4,
 "nbformat_minor": 4
}
